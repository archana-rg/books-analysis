{
 "cells": [
  {
   "cell_type": "code",
   "execution_count": 1,
   "id": "66cbcb29",
   "metadata": {},
   "outputs": [],
   "source": [
    "import pandas as pd\n",
    "import numpy as np\n",
    "import seaborn as sns"
   ]
  },
  {
   "cell_type": "code",
   "execution_count": 2,
   "id": "f6552497",
   "metadata": {},
   "outputs": [
    {
     "data": {
      "text/plain": [
       "16559"
      ]
     },
     "execution_count": 2,
     "metadata": {},
     "output_type": "execute_result"
    }
   ],
   "source": [
    "filename = \"data/booksummaries.txt\"\n",
    "lines = open(filename).read().splitlines()\n",
    "len(lines)"
   ]
  },
  {
   "cell_type": "code",
   "execution_count": 3,
   "id": "d4d437c7",
   "metadata": {},
   "outputs": [],
   "source": [
    "titles = []\n",
    "authors = []\n",
    "pubDates = []\n",
    "genres = []\n",
    "summaries = []\n",
    "for line in range(0,len(lines)):\n",
    "    content = lines[line].split('/m/', 1)[1].split('\\t', 1)[1]\n",
    "    fields = content.split('\\t')\n",
    "    title = fields[0]\n",
    "    titles.append(title)\n",
    "    author = fields[1]\n",
    "    authors.append(author)\n",
    "    pubDate = fields[2]\n",
    "    if pubDate == '':\n",
    "        pubDate = np.nan\n",
    "    pubDates.append(pubDate)\n",
    "    genreDict = fields[3]\n",
    "    genre = ''\n",
    "    summary = fields[-1]\n",
    "    try:\n",
    "        genreDict = eval(genreDict)\n",
    "        for val in genreDict.values():\n",
    "            genre += val + ' '\n",
    "    except:\n",
    "        genre = np.nan\n",
    "    \n",
    "    genres.append(genre)\n",
    "    summary = summary.replace('\\'', '')\n",
    "    summaries.append(summary)\n",
    "    "
   ]
  },
  {
   "cell_type": "code",
   "execution_count": 4,
   "id": "8997902a",
   "metadata": {},
   "outputs": [
    {
     "data": {
      "text/html": [
       "<div>\n",
       "<style scoped>\n",
       "    .dataframe tbody tr th:only-of-type {\n",
       "        vertical-align: middle;\n",
       "    }\n",
       "\n",
       "    .dataframe tbody tr th {\n",
       "        vertical-align: top;\n",
       "    }\n",
       "\n",
       "    .dataframe thead th {\n",
       "        text-align: right;\n",
       "    }\n",
       "</style>\n",
       "<table border=\"1\" class=\"dataframe\">\n",
       "  <thead>\n",
       "    <tr style=\"text-align: right;\">\n",
       "      <th></th>\n",
       "      <th>Title</th>\n",
       "      <th>Author</th>\n",
       "      <th>PublishedDate</th>\n",
       "      <th>Genre</th>\n",
       "      <th>Summary</th>\n",
       "    </tr>\n",
       "  </thead>\n",
       "  <tbody>\n",
       "    <tr>\n",
       "      <th>0</th>\n",
       "      <td>Animal Farm</td>\n",
       "      <td>George Orwell</td>\n",
       "      <td>1945-08-17</td>\n",
       "      <td>Roman à clef Satire Children's literature Spec...</td>\n",
       "      <td>Old Major, the old boar on the Manor Farm, ca...</td>\n",
       "    </tr>\n",
       "    <tr>\n",
       "      <th>1</th>\n",
       "      <td>A Clockwork Orange</td>\n",
       "      <td>Anthony Burgess</td>\n",
       "      <td>1962</td>\n",
       "      <td>Science Fiction Novella Speculative fiction Ut...</td>\n",
       "      <td>Alex, a teenager living in near-future Englan...</td>\n",
       "    </tr>\n",
       "    <tr>\n",
       "      <th>2</th>\n",
       "      <td>The Plague</td>\n",
       "      <td>Albert Camus</td>\n",
       "      <td>1947</td>\n",
       "      <td>Existentialism Fiction Absurdist fiction Novel</td>\n",
       "      <td>The text of The Plague is divided into five p...</td>\n",
       "    </tr>\n",
       "    <tr>\n",
       "      <th>3</th>\n",
       "      <td>An Enquiry Concerning Human Understanding</td>\n",
       "      <td>David Hume</td>\n",
       "      <td>NaN</td>\n",
       "      <td>NaN</td>\n",
       "      <td>The argument of the Enquiry proceeds by a ser...</td>\n",
       "    </tr>\n",
       "    <tr>\n",
       "      <th>4</th>\n",
       "      <td>A Fire Upon the Deep</td>\n",
       "      <td>Vernor Vinge</td>\n",
       "      <td>NaN</td>\n",
       "      <td>Hard science fiction Science Fiction Speculati...</td>\n",
       "      <td>The novel posits that space around the Milky ...</td>\n",
       "    </tr>\n",
       "    <tr>\n",
       "      <th>...</th>\n",
       "      <td>...</td>\n",
       "      <td>...</td>\n",
       "      <td>...</td>\n",
       "      <td>...</td>\n",
       "      <td>...</td>\n",
       "    </tr>\n",
       "    <tr>\n",
       "      <th>16554</th>\n",
       "      <td>Under Wildwood</td>\n",
       "      <td>Colin Meloy</td>\n",
       "      <td>2012-09-25</td>\n",
       "      <td>NaN</td>\n",
       "      <td>Prue McKeel, having rescued her brother from ...</td>\n",
       "    </tr>\n",
       "    <tr>\n",
       "      <th>16555</th>\n",
       "      <td>Transfer of Power</td>\n",
       "      <td>Vince Flynn</td>\n",
       "      <td>2000-06-01</td>\n",
       "      <td>Thriller Fiction</td>\n",
       "      <td>The reader first meets Rapp while he is doing...</td>\n",
       "    </tr>\n",
       "    <tr>\n",
       "      <th>16556</th>\n",
       "      <td>Decoded</td>\n",
       "      <td>Jay-Z</td>\n",
       "      <td>2010-11-16</td>\n",
       "      <td>Autobiography</td>\n",
       "      <td>The book follows very rough chronological ord...</td>\n",
       "    </tr>\n",
       "    <tr>\n",
       "      <th>16557</th>\n",
       "      <td>America Again: Re-becoming The Greatness We Ne...</td>\n",
       "      <td>Stephen Colbert</td>\n",
       "      <td>2012-10-02</td>\n",
       "      <td>NaN</td>\n",
       "      <td>Colbert addresses topics including Wall Stree...</td>\n",
       "    </tr>\n",
       "    <tr>\n",
       "      <th>16558</th>\n",
       "      <td>Poor Folk</td>\n",
       "      <td>Fyodor Dostoyevsky</td>\n",
       "      <td>1846</td>\n",
       "      <td>Epistolary novel Speculative fiction</td>\n",
       "      <td>Makar Devushkin and Varvara Dobroselova are s...</td>\n",
       "    </tr>\n",
       "  </tbody>\n",
       "</table>\n",
       "<p>16559 rows × 5 columns</p>\n",
       "</div>"
      ],
      "text/plain": [
       "                                                   Title              Author  \\\n",
       "0                                            Animal Farm       George Orwell   \n",
       "1                                     A Clockwork Orange     Anthony Burgess   \n",
       "2                                             The Plague        Albert Camus   \n",
       "3              An Enquiry Concerning Human Understanding          David Hume   \n",
       "4                                   A Fire Upon the Deep        Vernor Vinge   \n",
       "...                                                  ...                 ...   \n",
       "16554                                     Under Wildwood         Colin Meloy   \n",
       "16555                                  Transfer of Power         Vince Flynn   \n",
       "16556                                            Decoded               Jay-Z   \n",
       "16557  America Again: Re-becoming The Greatness We Ne...     Stephen Colbert   \n",
       "16558                                          Poor Folk  Fyodor Dostoyevsky   \n",
       "\n",
       "      PublishedDate                                              Genre  \\\n",
       "0        1945-08-17  Roman à clef Satire Children's literature Spec...   \n",
       "1              1962  Science Fiction Novella Speculative fiction Ut...   \n",
       "2              1947    Existentialism Fiction Absurdist fiction Novel    \n",
       "3               NaN                                                NaN   \n",
       "4               NaN  Hard science fiction Science Fiction Speculati...   \n",
       "...             ...                                                ...   \n",
       "16554    2012-09-25                                                NaN   \n",
       "16555    2000-06-01                                  Thriller Fiction    \n",
       "16556    2010-11-16                                     Autobiography    \n",
       "16557    2012-10-02                                                NaN   \n",
       "16558          1846              Epistolary novel Speculative fiction    \n",
       "\n",
       "                                                 Summary  \n",
       "0       Old Major, the old boar on the Manor Farm, ca...  \n",
       "1       Alex, a teenager living in near-future Englan...  \n",
       "2       The text of The Plague is divided into five p...  \n",
       "3       The argument of the Enquiry proceeds by a ser...  \n",
       "4       The novel posits that space around the Milky ...  \n",
       "...                                                  ...  \n",
       "16554   Prue McKeel, having rescued her brother from ...  \n",
       "16555   The reader first meets Rapp while he is doing...  \n",
       "16556   The book follows very rough chronological ord...  \n",
       "16557   Colbert addresses topics including Wall Stree...  \n",
       "16558   Makar Devushkin and Varvara Dobroselova are s...  \n",
       "\n",
       "[16559 rows x 5 columns]"
      ]
     },
     "execution_count": 4,
     "metadata": {},
     "output_type": "execute_result"
    }
   ],
   "source": [
    "books_df = pd.DataFrame({'Title':titles, 'Author':authors, 'PublishedDate': pubDates,'Genre':genres, 'Summary':summaries})\n",
    "books_df"
   ]
  },
  {
   "cell_type": "code",
   "execution_count": 5,
   "id": "3e129b6d",
   "metadata": {},
   "outputs": [
    {
     "data": {
      "text/plain": [
       "Title               0\n",
       "Author              0\n",
       "PublishedDate    5610\n",
       "Genre            3718\n",
       "Summary             0\n",
       "dtype: int64"
      ]
     },
     "execution_count": 5,
     "metadata": {},
     "output_type": "execute_result"
    }
   ],
   "source": [
    "books_df.isna().sum()"
   ]
  },
  {
   "cell_type": "code",
   "execution_count": 6,
   "id": "f9537db2",
   "metadata": {},
   "outputs": [
    {
     "data": {
      "text/plain": [
       "8"
      ]
     },
     "execution_count": 6,
     "metadata": {},
     "output_type": "execute_result"
    }
   ],
   "source": [
    "books_df[['Title', 'Author']].duplicated().sum()"
   ]
  },
  {
   "cell_type": "code",
   "execution_count": null,
   "id": "30a42c64",
   "metadata": {},
   "outputs": [],
   "source": []
  }
 ],
 "metadata": {
  "kernelspec": {
   "display_name": "Python 3 (ipykernel)",
   "language": "python",
   "name": "python3"
  },
  "language_info": {
   "codemirror_mode": {
    "name": "ipython",
    "version": 3
   },
   "file_extension": ".py",
   "mimetype": "text/x-python",
   "name": "python",
   "nbconvert_exporter": "python",
   "pygments_lexer": "ipython3",
   "version": "3.11.5"
  }
 },
 "nbformat": 4,
 "nbformat_minor": 5
}
